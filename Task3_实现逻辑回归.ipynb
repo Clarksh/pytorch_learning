{
 "cells": [
  {
   "cell_type": "code",
   "execution_count": 1,
   "metadata": {
    "collapsed": false
   },
   "outputs": [
    {
     "name": "stdout",
     "output_type": "stream",
     "text": [
      "before training,predict of x = 1.5 is :\n",
      "Y_pred =  0.0\n",
      "after trainning,predict of x = 1.5 is :\n",
      "Y_pred =  0.0\n",
      "tensor([0.6075]) tensor([-0.9949])\n"
     ]
    }
   ],
   "source": [
    "import torch\n",
    "from torch.autograd import Variable\n",
    " \n",
    "torch.manual_seed(2)\n",
    "x_data = Variable(torch.Tensor([[1.0], [2.0], [3.0], [4.0]]))\n",
    "y_data = Variable(torch.Tensor([[0.0], [0.0], [1.0], [1.0]]))\n",
    " \n",
    "# 初始化\n",
    "w = Variable(torch.Tensor([-1]), requires_grad=True)\n",
    "b = Variable(torch.Tensor([0]), requires_grad=True)\n",
    " \n",
    "epochs = 100\n",
    "costs = []\n",
    "lr = 0.1\n",
    " \n",
    "print('before training,predict of x = 1.5 is :')\n",
    "print('Y_pred = ', float(w.data * 1.5 + b.data > 0))\n",
    "# w * x_data\n",
    "# 1 / (1 + torch.exp(-w * x_data))\n",
    " \n",
    "# 模型训练\n",
    "for epoch in range(epochs):\n",
    "    # 计算梯度\n",
    "    A = 1 / (1 + torch.exp(-(w * x_data + b)))\n",
    "    # 逻辑损失函数\n",
    "    J = - torch.mean(y_data * torch.log(A) + (1 - y_data) * torch.log(1 - A))\n",
    "    # 基础类进行正则化，加上L2范数\n",
    "    # J = -torch.mean(y_data * torch.log(A) + (1 - y_data) * torch.log(1 - A)) + alpha * w ** 2\n",
    "    # print(len(J.data))\n",
    "    # costs.append(J.data.numpy()[0])\n",
    "    # 自动反向传播\n",
    "    J.backward()\n",
    " \n",
    "    # 参数更新\n",
    "    w.data = w.data - lr * w.grad.data\n",
    "    w.grad.data.zero_()\n",
    "    b.data = b.data - lr * b.grad.data\n",
    "    b.grad.data.zero_()\n",
    " \n",
    "# 模型测试\n",
    "print('after trainning,predict of x = 1.5 is :')\n",
    "print('Y_pred = ', float(w.data * 1.5 + b.data > 0))\n",
    "print(w.data, b.data)"
   ]
  },
  {
   "cell_type": "code",
   "execution_count": 2,
   "metadata": {
    "collapsed": false
   },
   "outputs": [
    {
     "name": "stdout",
     "output_type": "stream",
     "text": [
      "predict (before training) given 4 is 0.0\n",
      "predict (after training) given 4 is 1.0\n"
     ]
    }
   ],
   "source": [
    "import torch\n",
    "# from torch import nn\n",
    "# 第一创建数据\n",
    "from torch.autograd import Variable  # 导入Variable函数进行自动求导，有了Variable PyTorch才能实现自动求导功能\n",
    " \n",
    "torch.manual_seed(2)\n",
    "x_data = Variable(torch.Tensor([[1.0], [2.0], [3.0], [4.0]]))\n",
    "y_data = Variable(torch.Tensor([[0.0], [0.0], [1.0], [1.0]]))\n",
    " \n",
    " \n",
    "# 定义网络模型\n",
    "# 先建立一个基类Model，都是从父类torch.nn.Module中继承过来，PyTorch写网络的固定写法\n",
    "class Model(torch.nn.Module):\n",
    "    def __init__(self):\n",
    "        super(Model, self).__init__()  # 初始父类\n",
    "        self.linear = torch.nn.Linear(1, 1)  # 输入维度和输出维度都为1\n",
    " \n",
    "    def forward(self, x):\n",
    "        y_pred = self.linear(x)\n",
    "        return y_pred\n",
    " \n",
    " \n",
    "model = Model()  # 实例化\n",
    " \n",
    "# 定义Loss和优化方法\n",
    "criterion = torch.nn.BCEWithLogitsLoss()  # 损失函数，封装好的逻辑损失函数\n",
    "optimizer = torch.optim.SGD(model.parameters(), lr=0.01)  # 进行优化梯度下降\n",
    "# optimizer = torch.optim.SGD(model.parmeters(), lr=0.01, weight_decay=0.001)\n",
    "# #PyTorch类方法正则化方法，添加一个weight_decay参数进行正则化\n",
    "# before training\n",
    "hour_var = Variable(torch.Tensor([[2.5]]))\n",
    "y_pred = model(hour_var)\n",
    "print(\"predict (before training) given\", 4, \"is\", float(model(hour_var).data[0][0] > 0.5))\n",
    " \n",
    "epochs = 40\n",
    "for epoch in range(epochs):\n",
    "    # 计算grads and cost\n",
    "    y_pred = model(x_data)  # x_data 输入数据进入模型中\n",
    "    loss = criterion(y_pred, y_data)\n",
    "    # print(loss.data)\n",
    "    # print('epoch = ', epoch + 1, loss.data[0])\n",
    "    optimizer.zero_grad()  # 梯度清零\n",
    "    loss.backward()  # 反向传播\n",
    "    optimizer.step()  # 优化迭代\n",
    " \n",
    "# after trining\n",
    "hour_var = Variable(torch.Tensor([[4.0]]))\n",
    "y_pred = model(hour_var)  # 预测结果\n",
    "print(\"predict (after training) given\", 4, \"is\", float(model(hour_var).data[0][0] > 0.5))"
   ]
  },
  {
   "cell_type": "code",
   "execution_count": null,
   "metadata": {
    "collapsed": true
   },
   "outputs": [],
   "source": []
  }
 ],
 "metadata": {
  "anaconda-cloud": {},
  "kernelspec": {
   "display_name": "Python [conda env:pytorch_cpu]",
   "language": "python",
   "name": "conda-env-pytorch_cpu-py"
  },
  "language_info": {
   "codemirror_mode": {
    "name": "ipython",
    "version": 3
   },
   "file_extension": ".py",
   "mimetype": "text/x-python",
   "name": "python",
   "nbconvert_exporter": "python",
   "pygments_lexer": "ipython3",
   "version": "3.6.9"
  }
 },
 "nbformat": 4,
 "nbformat_minor": 1
}
